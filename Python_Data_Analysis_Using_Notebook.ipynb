{
 "cells": [
  {
   "cell_type": "markdown",
   "metadata": {},
   "source": [
    "#                                 Data Structures\n",
    "# .List                 Ordered         changeable                  duplicates\n",
    "# .Tuple              Ordered         unchangeable              duplicates\n",
    "# .Set                  Unordered     addable/removable     no duplicates\n",
    "# .Dictionary      Unordered     changeable                  no duplicates"
   ]
  },
  {
   "cell_type": "markdown",
   "metadata": {},
   "source": [
    "# ################################"
   ]
  },
  {
   "cell_type": "markdown",
   "metadata": {},
   "source": [
    "# List"
   ]
  },
  {
   "cell_type": "code",
   "execution_count": 6,
   "metadata": {
    "collapsed": true
   },
   "outputs": [],
   "source": [
    "L = [1,2,3,4]"
   ]
  },
  {
   "cell_type": "markdown",
   "metadata": {},
   "source": [
    "# Tuple"
   ]
  },
  {
   "cell_type": "code",
   "execution_count": 3,
   "metadata": {
    "collapsed": true
   },
   "outputs": [],
   "source": [
    "T = (1,34,5, \"name\", 5)"
   ]
  },
  {
   "cell_type": "markdown",
   "metadata": {},
   "source": [
    "# Set"
   ]
  },
  {
   "cell_type": "code",
   "execution_count": 4,
   "metadata": {
    "collapsed": true
   },
   "outputs": [],
   "source": [
    "S = {1,4,5,6,8,\"xyz\"}"
   ]
  },
  {
   "cell_type": "markdown",
   "metadata": {},
   "source": [
    "# Dictionary "
   ]
  },
  {
   "cell_type": "code",
   "execution_count": 5,
   "metadata": {
    "collapsed": true
   },
   "outputs": [],
   "source": [
    "D ={23:\"twothree\", 79:\"sevennine\"}"
   ]
  },
  {
   "cell_type": "code",
   "execution_count": 10,
   "metadata": {
    "collapsed": false
   },
   "outputs": [
    {
     "name": "stdout",
     "output_type": "stream",
     "text": [
      "The type of L:  <class 'list'>\n",
      "The type of T:  <class 'tuple'>\n",
      "The type of S:  <class 'set'>\n",
      "The type of D:  <class 'dict'>\n"
     ]
    }
   ],
   "source": [
    "print(\"The type of L: \",type(L))\n",
    "print(\"The type of T: \", type(T))\n",
    "print(\"The type of S: \", type(S))\n",
    "print(\"The type of D: \", type(D))\n",
    "\n"
   ]
  },
  {
   "cell_type": "code",
   "execution_count": 11,
   "metadata": {
    "collapsed": false
   },
   "outputs": [
    {
     "name": "stdout",
     "output_type": "stream",
     "text": [
      "2\n",
      "34\n",
      "False\n",
      "twothree\n"
     ]
    }
   ],
   "source": [
    "print(L[1])\n",
    "print(T[1])\n",
    "print(3 in S)\n",
    "print(D[23])"
   ]
  },
  {
   "cell_type": "code",
   "execution_count": 13,
   "metadata": {
    "collapsed": false
   },
   "outputs": [
    {
     "name": "stdout",
     "output_type": "stream",
     "text": [
      "{'C': {1, 4, 5, 6, 8, 'xyz'}, 'B': (1, 34, 5, 'name', 5), 'A': [1, 2, 3, 4], 'D': {79: 'sevennine', 23: 'twothree'}}\n"
     ]
    }
   ],
   "source": [
    "D2= {'A' : L , 'B':T, 'C': S, 'D':D}\n",
    "print(D2)"
   ]
  },
  {
   "cell_type": "code",
   "execution_count": 16,
   "metadata": {
    "collapsed": false
   },
   "outputs": [
    {
     "name": "stdout",
     "output_type": "stream",
     "text": [
      "{64, 121, 289, 196, 4, 25}\n"
     ]
    }
   ],
   "source": [
    "s3 = {x**2 for x in range(2,20,3)}\n",
    "print(s3)"
   ]
  },
  {
   "cell_type": "code",
   "execution_count": 18,
   "metadata": {
    "collapsed": false
   },
   "outputs": [
    {
     "name": "stdout",
     "output_type": "stream",
     "text": [
      "[0, 1, 4, 9, 16, 25, 36, 49, 64, 81]\n"
     ]
    }
   ],
   "source": [
    "L3 = [x**2 for x in range(10)]\n",
    "print(L3)"
   ]
  },
  {
   "cell_type": "code",
   "execution_count": 3,
   "metadata": {
    "collapsed": true
   },
   "outputs": [],
   "source": [
    "\"\"\"\n",
    "Let say you are teacher and you have different student records containing id of a student and the marks list in each \n",
    "subject where different students have taken different number of subjects. All these records are in hard copy. You want \n",
    "to enter all the data in computer and want to compute the average marks of each student and display.\n",
    "\"\"\"\n",
    "\n",
    "def getDataFromUser():\n",
    "    D = {}\n",
    "    while True:\n",
    "        studentId = input(\"Enter student ID: \")\n",
    "        marksList = input(\"Enter the marks by comma separated values: \")\n",
    "        moreStudents = input(\"Enter yes/no for adding more students: \")\n",
    "        if studentId in D: \n",
    "            print(studentId, \"is already inserted\")\n",
    "        else:\n",
    "            D[studentId] = marksList.split(\",\")\n",
    "        if moreStudents.lower() == \"no\":\n",
    "            return D\n",
    "\n"
   ]
  },
  {
   "cell_type": "code",
   "execution_count": 6,
   "metadata": {
    "collapsed": false
   },
   "outputs": [
    {
     "name": "stdout",
     "output_type": "stream",
     "text": [
      "Enter student ID: 45\n",
      "Enter the marks by comma separated values: 35,26,57,58\n",
      "Enter yes/no for adding more students: yes\n",
      "Enter student ID: 86\n",
      "Enter the marks by comma separated values: 28,50,19,49,40\n",
      "Enter yes/no for adding more students: yes\n",
      "Enter student ID: 92\n",
      "Enter the marks by comma separated values: 98,40,75,19,40\n",
      "Enter yes/no for adding more students: yes\n",
      "Enter student ID: 47\n",
      "Enter the marks by comma separated values: 91,38,45\n",
      "Enter yes/no for adding more students: no\n"
     ]
    }
   ],
   "source": [
    "studentData = getDataFromUser()"
   ]
  },
  {
   "cell_type": "code",
   "execution_count": 7,
   "metadata": {
    "collapsed": true
   },
   "outputs": [],
   "source": [
    "def getAvgMarks(D):\n",
    "    avgMarks = {}\n",
    "    for x in D:\n",
    "        L = D[x]\n",
    "        s = 0\n",
    "        for marks in L:\n",
    "            s+=int(marks)\n",
    "        avgMarks[x] = s/len(L)\n",
    "    return avgMarks"
   ]
  },
  {
   "cell_type": "code",
   "execution_count": 8,
   "metadata": {
    "collapsed": true
   },
   "outputs": [],
   "source": [
    "avgM = getAvgMarks(studentData)"
   ]
  },
  {
   "cell_type": "code",
   "execution_count": 9,
   "metadata": {
    "collapsed": false
   },
   "outputs": [
    {
     "name": "stdout",
     "output_type": "stream",
     "text": [
      "Student : 45 got avg Marks as :  44.0\n",
      "Student : 92 got avg Marks as :  54.4\n",
      "Student : 86 got avg Marks as :  37.2\n",
      "Student : 47 got avg Marks as :  58.0\n"
     ]
    }
   ],
   "source": [
    "for x in avgM: \n",
    "    print(\"Student :\",x, \"got avg Marks as : \", avgM[x])"
   ]
  },
  {
   "cell_type": "code",
   "execution_count": null,
   "metadata": {
    "collapsed": true
   },
   "outputs": [],
   "source": []
  }
 ],
 "metadata": {
  "anaconda-cloud": {},
  "kernelspec": {
   "display_name": "Python [default]",
   "language": "python",
   "name": "python3"
  },
  "language_info": {
   "codemirror_mode": {
    "name": "ipython",
    "version": 3
   },
   "file_extension": ".py",
   "mimetype": "text/x-python",
   "name": "python",
   "nbconvert_exporter": "python",
   "pygments_lexer": "ipython3",
   "version": "3.5.2"
  }
 },
 "nbformat": 4,
 "nbformat_minor": 1
}
