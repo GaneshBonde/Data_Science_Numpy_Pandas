{
 "cells": [
  {
   "cell_type": "markdown",
   "metadata": {},
   "source": [
    "# This is python code"
   ]
  },
  {
   "cell_type": "code",
   "execution_count": 2,
   "metadata": {
    "collapsed": false
   },
   "outputs": [
    {
     "name": "stdout",
     "output_type": "stream",
     "text": [
      "Hello World !!!\n"
     ]
    }
   ],
   "source": [
    " print(\"Hello World !!!\")\n"
   ]
  },
  {
   "cell_type": "markdown",
   "metadata": {},
   "source": [
    "$a=b+c$"
   ]
  },
  {
   "cell_type": "markdown",
   "metadata": {},
   "source": [
    "# Variables"
   ]
  },
  {
   "cell_type": "code",
   "execution_count": 14,
   "metadata": {
    "collapsed": true
   },
   "outputs": [],
   "source": [
    "x = 3"
   ]
  },
  {
   "cell_type": "code",
   "execution_count": 15,
   "metadata": {
    "collapsed": false
   },
   "outputs": [
    {
     "name": "stdout",
     "output_type": "stream",
     "text": [
      "Variable   Type    Data/Info\n",
      "----------------------------\n",
      "x          int     3\n"
     ]
    }
   ],
   "source": [
    "%whos"
   ]
  },
  {
   "cell_type": "code",
   "execution_count": 16,
   "metadata": {
    "collapsed": false
   },
   "outputs": [
    {
     "name": "stdout",
     "output_type": "stream",
     "text": [
      "<class 'int'>\n"
     ]
    }
   ],
   "source": [
    "print(type(x))"
   ]
  },
  {
   "cell_type": "code",
   "execution_count": 17,
   "metadata": {
    "collapsed": true
   },
   "outputs": [],
   "source": [
    "x = 5.7"
   ]
  },
  {
   "cell_type": "code",
   "execution_count": 18,
   "metadata": {
    "collapsed": false
   },
   "outputs": [
    {
     "name": "stdout",
     "output_type": "stream",
     "text": [
      "Variable   Type     Data/Info\n",
      "-----------------------------\n",
      "x          float    5.7\n"
     ]
    }
   ],
   "source": [
    "%whos"
   ]
  },
  {
   "cell_type": "code",
   "execution_count": 19,
   "metadata": {
    "collapsed": true
   },
   "outputs": [],
   "source": [
    "abcd = 556.32"
   ]
  },
  {
   "cell_type": "code",
   "execution_count": 20,
   "metadata": {
    "collapsed": false
   },
   "outputs": [
    {
     "name": "stdout",
     "output_type": "stream",
     "text": [
      "Variable   Type     Data/Info\n",
      "-----------------------------\n",
      "abcd       float    556.32\n",
      "x          float    5.7\n"
     ]
    }
   ],
   "source": [
    "%whos"
   ]
  },
  {
   "cell_type": "code",
   "execution_count": 21,
   "metadata": {
    "collapsed": true
   },
   "outputs": [],
   "source": [
    "a,b,c,d,e,f= 1,2,32,43,-38,4"
   ]
  },
  {
   "cell_type": "code",
   "execution_count": 22,
   "metadata": {
    "collapsed": false
   },
   "outputs": [
    {
     "name": "stdout",
     "output_type": "stream",
     "text": [
      "Variable   Type     Data/Info\n",
      "-----------------------------\n",
      "a          int      1\n",
      "abcd       float    556.32\n",
      "b          int      2\n",
      "c          int      32\n",
      "d          int      43\n",
      "e          int      -38\n",
      "f          int      4\n",
      "x          float    5.7\n"
     ]
    }
   ],
   "source": [
    "%whos"
   ]
  },
  {
   "cell_type": "code",
   "execution_count": 23,
   "metadata": {
    "collapsed": true
   },
   "outputs": [],
   "source": [
    "del abcd"
   ]
  },
  {
   "cell_type": "code",
   "execution_count": 24,
   "metadata": {
    "collapsed": false
   },
   "outputs": [
    {
     "name": "stdout",
     "output_type": "stream",
     "text": [
      "Variable   Type     Data/Info\n",
      "-----------------------------\n",
      "a          int      1\n",
      "b          int      2\n",
      "c          int      32\n",
      "d          int      43\n",
      "e          int      -38\n",
      "f          int      4\n",
      "x          float    5.7\n"
     ]
    }
   ],
   "source": [
    "%whos"
   ]
  },
  {
   "cell_type": "markdown",
   "metadata": {},
   "source": [
    " # OPERATORS"
   ]
  },
  {
   "cell_type": "code",
   "execution_count": 25,
   "metadata": {
    "collapsed": true
   },
   "outputs": [],
   "source": [
    "sumOfAandB= a + b"
   ]
  },
  {
   "cell_type": "code",
   "execution_count": 26,
   "metadata": {
    "collapsed": false
   },
   "outputs": [
    {
     "name": "stdout",
     "output_type": "stream",
     "text": [
      "3\n"
     ]
    }
   ],
   "source": [
    "print(sumOfAandB)"
   ]
  },
  {
   "cell_type": "code",
   "execution_count": 27,
   "metadata": {
    "collapsed": false
   },
   "outputs": [
    {
     "name": "stdout",
     "output_type": "stream",
     "text": [
      "Hello World !!!!!\n"
     ]
    }
   ],
   "source": [
    "s1= \"Hello\"\n",
    "s2= \" World !!!!!\"\n",
    "s = s1 + s2\n",
    "print(s)"
   ]
  },
  {
   "cell_type": "code",
   "execution_count": 29,
   "metadata": {
    "collapsed": false
   },
   "outputs": [
    {
     "data": {
      "text/plain": [
       "(3, 7)"
      ]
     },
     "execution_count": 29,
     "metadata": {},
     "output_type": "execute_result"
    }
   ],
   "source": [
    "divmod(34,9)"
   ]
  },
  {
   "cell_type": "code",
   "execution_count": 1,
   "metadata": {
    "collapsed": false
   },
   "outputs": [
    {
     "name": "stdout",
     "output_type": "stream",
     "text": [
      "True\n"
     ]
    }
   ],
   "source": [
    "print(isinstance(1,int))"
   ]
  },
  {
   "cell_type": "code",
   "execution_count": 2,
   "metadata": {
    "collapsed": false
   },
   "outputs": [
    {
     "name": "stdout",
     "output_type": "stream",
     "text": [
      "False\n"
     ]
    }
   ],
   "source": [
    "print(isinstance(1.0,int))"
   ]
  },
  {
   "cell_type": "code",
   "execution_count": 3,
   "metadata": {
    "collapsed": false
   },
   "outputs": [
    {
     "data": {
      "text/plain": [
       "True"
      ]
     },
     "execution_count": 3,
     "metadata": {},
     "output_type": "execute_result"
    }
   ],
   "source": [
    "isinstance(3.4,(int,float))"
   ]
  },
  {
   "cell_type": "code",
   "execution_count": 4,
   "metadata": {
    "collapsed": false
   },
   "outputs": [
    {
     "data": {
      "text/plain": [
       "16"
      ]
     },
     "execution_count": 4,
     "metadata": {},
     "output_type": "execute_result"
    }
   ],
   "source": [
    "pow(2,4)"
   ]
  },
  {
   "cell_type": "code",
   "execution_count": 5,
   "metadata": {
    "collapsed": false
   },
   "outputs": [
    {
     "data": {
      "text/plain": [
       "16"
      ]
     },
     "execution_count": 5,
     "metadata": {},
     "output_type": "execute_result"
    }
   ],
   "source": [
    "2**4"
   ]
  },
  {
   "cell_type": "markdown",
   "metadata": {},
   "source": [
    "# 2**4%7=2"
   ]
  },
  {
   "cell_type": "code",
   "execution_count": 6,
   "metadata": {
    "collapsed": false
   },
   "outputs": [
    {
     "data": {
      "text/plain": [
       "2"
      ]
     },
     "execution_count": 6,
     "metadata": {},
     "output_type": "execute_result"
    }
   ],
   "source": [
    "pow(2,4,7)"
   ]
  },
  {
   "cell_type": "code",
   "execution_count": 7,
   "metadata": {
    "collapsed": false
   },
   "outputs": [
    {
     "name": "stdout",
     "output_type": "stream",
     "text": [
      "Enter a number :3\n"
     ]
    }
   ],
   "source": [
    "x = input(\"Enter a number :\")"
   ]
  },
  {
   "cell_type": "code",
   "execution_count": 8,
   "metadata": {
    "collapsed": false
   },
   "outputs": [
    {
     "data": {
      "text/plain": [
       "str"
      ]
     },
     "execution_count": 8,
     "metadata": {},
     "output_type": "execute_result"
    }
   ],
   "source": [
    "type(x)"
   ]
  },
  {
   "cell_type": "code",
   "execution_count": 9,
   "metadata": {
    "collapsed": true
   },
   "outputs": [],
   "source": [
    "x = int(x)"
   ]
  },
  {
   "cell_type": "code",
   "execution_count": 10,
   "metadata": {
    "collapsed": false
   },
   "outputs": [
    {
     "data": {
      "text/plain": [
       "int"
      ]
     },
     "execution_count": 10,
     "metadata": {},
     "output_type": "execute_result"
    }
   ],
   "source": [
    "type(x)"
   ]
  },
  {
   "cell_type": "code",
   "execution_count": 11,
   "metadata": {
    "collapsed": false
   },
   "outputs": [
    {
     "name": "stdout",
     "output_type": "stream",
     "text": [
      "Enter a real number13.1\n"
     ]
    }
   ],
   "source": [
    "a= float(input(\"Enter a real number\"))"
   ]
  },
  {
   "cell_type": "code",
   "execution_count": 12,
   "metadata": {
    "collapsed": false
   },
   "outputs": [
    {
     "name": "stdout",
     "output_type": "stream",
     "text": [
      "10\n",
      "13\n",
      "b is greater than a\n"
     ]
    }
   ],
   "source": [
    "a = int(input())\n",
    "b = int(input())\n",
    "if b > a:\n",
    "    print(\"b is greater than a\")"
   ]
  },
  {
   "cell_type": "code",
   "execution_count": 13,
   "metadata": {
    "collapsed": false
   },
   "outputs": [
    {
     "name": "stdout",
     "output_type": "stream",
     "text": [
      "B\n"
     ]
    }
   ],
   "source": [
    "a = 9\n",
    "b = 10\n",
    "print(\"A\") if a > b else print(\"=\") if a==b else print(\"B\")"
   ]
  },
  {
   "cell_type": "code",
   "execution_count": 6,
   "metadata": {
    "collapsed": false
   },
   "outputs": [
    {
     "name": "stdout",
     "output_type": "stream",
     "text": [
      "Enter a real number : 18.3\n",
      "18\n",
      "Even\n"
     ]
    }
   ],
   "source": [
    "# Comment\n",
    "\"\"\"\n",
    "    User will enter floating point number let say 238.915. Your task is \n",
    "    to find out the integer portion before the decimal and check if the \n",
    "    integer is even number or not.\n",
    "\"\"\"\n",
    "x = float(input(\"Enter a real number : \"))\n",
    "y = round(x) \n",
    "if x>0:\n",
    "    if y>x:\n",
    "        intPortion = y - 1\n",
    "    else:\n",
    "        intPortion = y\n",
    "else:\n",
    "    if y < x:\n",
    "        intPortion = y + 1\n",
    "    else:\n",
    "        intPortion = y\n",
    "print(intPortion)\n",
    "\n",
    "if intPortion%2 == 0:\n",
    "    print(\"Even\")\n",
    "else:\n",
    "    print(\"Odd\")\n",
    "\n",
    "\n"
   ]
  },
  {
   "cell_type": "code",
   "execution_count": 9,
   "metadata": {
    "collapsed": false,
    "scrolled": true
   },
   "outputs": [
    {
     "name": "stdout",
     "output_type": "stream",
     "text": [
      " Enter a positve number5\n",
      "1\n",
      "This is iteration number 1\n",
      "4\n",
      "This is iteration number 2\n",
      "9\n",
      "This is iteration number 3\n",
      "16\n",
      "This is iteration number 4\n",
      "Loop Done !!!!!!\n"
     ]
    }
   ],
   "source": [
    "n = int(input(\" Enter a positve number\"))\n",
    "i = 1\n",
    "while i < n : \n",
    "    print(i**2)\n",
    "    print(\"This is iteration number\", i)\n",
    "    i+=1\n",
    "print(\"Loop Done !!!!!!\")\n"
   ]
  },
  {
   "cell_type": "code",
   "execution_count": 10,
   "metadata": {
    "collapsed": false
   },
   "outputs": [
    {
     "name": "stdout",
     "output_type": "stream",
     "text": [
      "1\n",
      "2\n",
      "3\n",
      "4\n",
      "5\n",
      "6\n",
      "7\n",
      "8\n",
      "9\n",
      "10\n",
      "[0, 1, 4, 9, 16, 25, 36, 49, 64, 81]\n"
     ]
    }
   ],
   "source": [
    "L = []\n",
    "for i in range(10):\n",
    "    print(i + 1)\n",
    "    L.append(i**2)\n",
    "print(L)\n"
   ]
  },
  {
   "cell_type": "code",
   "execution_count": 15,
   "metadata": {
    "collapsed": false
   },
   "outputs": [
    {
     "name": "stdout",
     "output_type": "stream",
     "text": [
      "0\n",
      "2\n",
      "4\n",
      "6\n",
      "8\n",
      "[0, 4, 16, 36, 64]\n"
     ]
    }
   ],
   "source": [
    "L = []\n",
    "for i in range(0,10,2):\n",
    "    print(i)\n",
    "    L.append(i**2)\n",
    "print(L)\n",
    "\n"
   ]
  },
  {
   "cell_type": "code",
   "execution_count": 17,
   "metadata": {
    "collapsed": false
   },
   "outputs": [
    {
     "name": "stdout",
     "output_type": "stream",
     "text": [
      "apple\n",
      "4.9\n",
      "cherry\n",
      "Loop terminates with success !!!\n",
      "Outside the loop\n"
     ]
    }
   ],
   "source": [
    "s = {\"apple\", 4.9, \"cherry\"}\n",
    "i = 1\n",
    "for x in s:\n",
    "    print(x)\n",
    "    i+=i\n",
    "    if i == 3:\n",
    "        break\n",
    "    else:\n",
    "        pass\n",
    "else:\n",
    "    print(\"Loop terminates with success !!!\")\n",
    "print(\"Outside the loop\")\n"
   ]
  },
  {
   "cell_type": "code",
   "execution_count": 18,
   "metadata": {
    "collapsed": false
   },
   "outputs": [
    {
     "name": "stdout",
     "output_type": "stream",
     "text": [
      "A 10\n",
      "C abc\n",
      "B -19\n"
     ]
    }
   ],
   "source": [
    "D = {\"A\": 10, \"B\":-19, \"C\":\"abc\"}\n",
    "for x in D:\n",
    "    print(x, D[x])\n"
   ]
  },
  {
   "cell_type": "code",
   "execution_count": 19,
   "metadata": {
    "collapsed": false
   },
   "outputs": [
    {
     "name": "stdout",
     "output_type": "stream",
     "text": [
      "[-5, 1, 2, 2, 3, 4, 7, 9]\n"
     ]
    }
   ],
   "source": [
    "\"\"\"\n",
    "    Given a list of numbers i.e. [1,2,4,-5,7,9,3,2], make another list that \n",
    "    contains all the items in sorted order from min to max. i.e. your \n",
    "    result will be another list like [-5,1,2,2,3,7,9]\n",
    "\"\"\"\n",
    "\n",
    "L = [1,2,4,-5,7, 9,3,2]\n",
    "\n",
    "m = L[0]\n",
    "for j in range(len(L)):\n",
    "    m = L[j]\n",
    "    idx = j\n",
    "    c = j\n",
    "    for i in range(j, len(L)):\n",
    "        if L[i]<m :\n",
    "            m = L[i]\n",
    "            idx = c\n",
    "        c+=1\n",
    "    tmp = L[j]\n",
    "    L[j]= m\n",
    "    L[idx]= tmp\n",
    "print(L)"
   ]
  },
  {
   "cell_type": "markdown",
   "metadata": {},
   "source": [
    "#  Functions"
   ]
  },
  {
   "cell_type": "code",
   "execution_count": 20,
   "metadata": {
    "collapsed": true
   },
   "outputs": [],
   "source": [
    "def printSucess():\n",
    "    print(\"I am done !!!!\")\n",
    "    print(\"Send me another task\")\n",
    "    "
   ]
  },
  {
   "cell_type": "code",
   "execution_count": 21,
   "metadata": {
    "collapsed": false
   },
   "outputs": [
    {
     "name": "stdout",
     "output_type": "stream",
     "text": [
      "I am done !!!!\n",
      "Send me another task\n"
     ]
    }
   ],
   "source": [
    "printSucess()"
   ]
  },
  {
   "cell_type": "code",
   "execution_count": 22,
   "metadata": {
    "collapsed": true
   },
   "outputs": [],
   "source": [
    "def printSucess2():\n",
    "    \"\"\"\n",
    "        This function is doing nothing except printing a message.\n",
    "    \"\"\"\n",
    "    print(\"Hello World !!!!!\")\n",
    "    "
   ]
  },
  {
   "cell_type": "code",
   "execution_count": 23,
   "metadata": {
    "collapsed": true
   },
   "outputs": [],
   "source": [
    "printSucess2?"
   ]
  },
  {
   "cell_type": "code",
   "execution_count": 24,
   "metadata": {
    "collapsed": true
   },
   "outputs": [],
   "source": [
    "printSucess2??"
   ]
  },
  {
   "cell_type": "code",
   "execution_count": 25,
   "metadata": {
    "collapsed": false
   },
   "outputs": [
    {
     "name": "stdout",
     "output_type": "stream",
     "text": [
      "Help on function printSucess2 in module __main__:\n",
      "\n",
      "printSucess2()\n",
      "    This function is doing nothing except printing a message.\n",
      "\n"
     ]
    }
   ],
   "source": [
    "help(printSucess2)"
   ]
  },
  {
   "cell_type": "code",
   "execution_count": 26,
   "metadata": {
    "collapsed": true
   },
   "outputs": [],
   "source": [
    "def printMsg(msg):\n",
    "    \"\"\"\n",
    "        The function prints the message supplied by the user\n",
    "        or prints that msg is not in the form of string\n",
    "    \"\"\"\n",
    "    if isinstance(msg, 'str'):\n",
    "        print(msg)\n",
    "    else:\n",
    "        print(\"Your input argument is not string\")\n",
    "        print(\"Here is what you have supplied \", msg)\n",
    "        print(\"Here is the type of message you have supplied: \", type(msg))\n",
    "        "
   ]
  },
  {
   "cell_type": "code",
   "execution_count": 27,
   "metadata": {
    "collapsed": false
   },
   "outputs": [
    {
     "name": "stdout",
     "output_type": "stream",
     "text": [
      "Help on function printMsg in module __main__:\n",
      "\n",
      "printMsg(msg)\n",
      "    The function prints the message supplied by the user\n",
      "    or prints that msg is not in the form of string\n",
      "\n"
     ]
    }
   ],
   "source": [
    "help(printMsg)"
   ]
  },
  {
   "cell_type": "code",
   "execution_count": 28,
   "metadata": {
    "collapsed": true
   },
   "outputs": [],
   "source": [
    "def mypow(a,b):\n",
    "    \"\"\"\n",
    "    This function computes power just like built in pow function\n",
    "    \"\"\"\n",
    "    c = a**b\n",
    "    print(c)"
   ]
  },
  {
   "cell_type": "code",
   "execution_count": 29,
   "metadata": {
    "collapsed": false
   },
   "outputs": [
    {
     "name": "stdout",
     "output_type": "stream",
     "text": [
      "81\n"
     ]
    }
   ],
   "source": [
    "mypow(3,4)"
   ]
  },
  {
   "cell_type": "code",
   "execution_count": 32,
   "metadata": {
    "collapsed": true
   },
   "outputs": [],
   "source": [
    "def checkArgs(a,b,c):\n",
    "    if isinstance(a, (int,float)) and isinstance(b, (int,float)) and isinstance(c,(int,float)):\n",
    "        print((a+b+c)**2)\n",
    "    else:\n",
    "        print(\"Error: the input arguments are not integer or float\")"
   ]
  },
  {
   "cell_type": "code",
   "execution_count": 33,
   "metadata": {
    "collapsed": false
   },
   "outputs": [
    {
     "name": "stdout",
     "output_type": "stream",
     "text": [
      "144\n"
     ]
    }
   ],
   "source": [
    "checkArgs(3,4,5)"
   ]
  },
  {
   "cell_type": "code",
   "execution_count": 34,
   "metadata": {
    "collapsed": false
   },
   "outputs": [
    {
     "name": "stdout",
     "output_type": "stream",
     "text": [
      "Error: the input arguments are not integer or float\n"
     ]
    }
   ],
   "source": [
    "checkArgs(3,5,\"g\")"
   ]
  },
  {
   "cell_type": "code",
   "execution_count": 1,
   "metadata": {
    "collapsed": true
   },
   "outputs": [],
   "source": [
    "def myAdd(a,b):\n",
    "    sumValue = a + b\n",
    "    return sumValue\n"
   ]
  },
  {
   "cell_type": "code",
   "execution_count": 2,
   "metadata": {
    "collapsed": false
   },
   "outputs": [
    {
     "name": "stdout",
     "output_type": "stream",
     "text": [
      "5\n"
     ]
    }
   ],
   "source": [
    "d = myAdd(2,3)\n",
    "print(d)"
   ]
  },
  {
   "cell_type": "code",
   "execution_count": 3,
   "metadata": {
    "collapsed": true
   },
   "outputs": [],
   "source": [
    "def r():\n",
    "    a = 5\n",
    "    b = 7\n",
    "    d = \"something\"\n",
    "    return a,b,d\n"
   ]
  },
  {
   "cell_type": "code",
   "execution_count": 4,
   "metadata": {
    "collapsed": false
   },
   "outputs": [
    {
     "name": "stdout",
     "output_type": "stream",
     "text": [
      "5 7 something\n"
     ]
    }
   ],
   "source": [
    "x,y,z = r()\n",
    "print(x,y,z)"
   ]
  },
  {
   "cell_type": "code",
   "execution_count": 5,
   "metadata": {
    "collapsed": true
   },
   "outputs": [],
   "source": [
    "def myAddUniversal(*args):\n",
    "    s= 0\n",
    "    for i in range(len(args)):\n",
    "        s += args[i]\n",
    "    return s\n"
   ]
  },
  {
   "cell_type": "code",
   "execution_count": 6,
   "metadata": {
    "collapsed": false
   },
   "outputs": [
    {
     "name": "stdout",
     "output_type": "stream",
     "text": [
      "9\n"
     ]
    }
   ],
   "source": [
    "print(myAddUniversal(2,3,4))"
   ]
  },
  {
   "cell_type": "code",
   "execution_count": 7,
   "metadata": {
    "collapsed": true
   },
   "outputs": [],
   "source": [
    "def printAllVaraibleNamesAndValues(**args):\n",
    "    for x in args:\n",
    "        print(\"Variable Name is : \", x, \" And Value is : \", args[x])\n",
    "        "
   ]
  },
  {
   "cell_type": "code",
   "execution_count": 8,
   "metadata": {
    "collapsed": false
   },
   "outputs": [
    {
     "name": "stdout",
     "output_type": "stream",
     "text": [
      "Variable Name is :  c  And Value is :  CAT\n",
      "Variable Name is :  b  And Value is :  4\n",
      "Variable Name is :  a  And Value is :  a\n",
      "Variable Name is :  y  And Value is :  6.7\n"
     ]
    }
   ],
   "source": [
    "printAllVaraibleNamesAndValues(a=\"a\",b=4,c=\"CAT\",y=6.7)"
   ]
  },
  {
   "cell_type": "code",
   "execution_count": 9,
   "metadata": {
    "collapsed": true
   },
   "outputs": [],
   "source": [
    "def gg(s = 4):\n",
    "    print(s)\n",
    "    "
   ]
  },
  {
   "cell_type": "code",
   "execution_count": 10,
   "metadata": {
    "collapsed": false
   },
   "outputs": [
    {
     "name": "stdout",
     "output_type": "stream",
     "text": [
      "4\n"
     ]
    }
   ],
   "source": [
    "gg()"
   ]
  },
  {
   "cell_type": "code",
   "execution_count": 11,
   "metadata": {
    "collapsed": false
   },
   "outputs": [
    {
     "name": "stdout",
     "output_type": "stream",
     "text": [
      "55\n"
     ]
    }
   ],
   "source": [
    "gg(55)"
   ]
  },
  {
   "cell_type": "code",
   "execution_count": 13,
   "metadata": {
    "collapsed": false
   },
   "outputs": [
    {
     "name": "stdout",
     "output_type": "stream",
     "text": [
      "[-9, 2, 3]\n"
     ]
    }
   ],
   "source": [
    "L = [1,2,3]\n",
    "L2 = L\n",
    "L2[0] = -9\n",
    "print(L)"
   ]
  },
  {
   "cell_type": "code",
   "execution_count": 8,
   "metadata": {
    "collapsed": false
   },
   "outputs": [],
   "source": [
    "import sys \n",
    "sys.path.append('C:/Python/code/modules/')\n",
    "\n",
    "import myUniversalFunctions as myfs\n",
    "# from myUniversalFunctions inmport addAllNumerics"
   ]
  },
  {
   "cell_type": "code",
   "execution_count": 6,
   "metadata": {
    "collapsed": false
   },
   "outputs": [],
   "source": [
    "c = myfs.addAllNumerics(2,3,4,6)"
   ]
  },
  {
   "cell_type": "code",
   "execution_count": 10,
   "metadata": {
    "collapsed": false
   },
   "outputs": [
    {
     "name": "stdout",
     "output_type": "stream",
     "text": [
      "15\n"
     ]
    }
   ],
   "source": [
    "print(c)"
   ]
  },
  {
   "cell_type": "code",
   "execution_count": 11,
   "metadata": {
    "collapsed": false
   },
   "outputs": [
    {
     "data": {
      "text/plain": [
       "'Python Game'"
      ]
     },
     "execution_count": 11,
     "metadata": {},
     "output_type": "execute_result"
    }
   ],
   "source": [
    "myfs.myName"
   ]
  },
  {
   "cell_type": "code",
   "execution_count": 12,
   "metadata": {
    "collapsed": true
   },
   "outputs": [],
   "source": [
    "def findMin(L):\n",
    "    m = L[0]\n",
    "    idx = 0\n",
    "    i = 0\n",
    "    for x in L:\n",
    "        if x < m:\n",
    "            m = x\n",
    "            idx = i\n",
    "        else:\n",
    "            pass\n",
    "        i+=1\n",
    "    return m,idx\n"
   ]
  },
  {
   "cell_type": "code",
   "execution_count": 13,
   "metadata": {
    "collapsed": true
   },
   "outputs": [],
   "source": [
    "a,b = findMin([2,3,4,0,1,-7])"
   ]
  },
  {
   "cell_type": "code",
   "execution_count": 14,
   "metadata": {
    "collapsed": false
   },
   "outputs": [
    {
     "name": "stdout",
     "output_type": "stream",
     "text": [
      "-7 5\n"
     ]
    }
   ],
   "source": [
    "print(a,b)"
   ]
  },
  {
   "cell_type": "code",
   "execution_count": 15,
   "metadata": {
    "collapsed": true
   },
   "outputs": [],
   "source": [
    "def swapValues(L,idx1,idx2):\n",
    "    tmp = L[idx1]\n",
    "    L[idx1] = L[idx2]\n",
    "    L[idx2] = tmp\n",
    "    return L"
   ]
  },
  {
   "cell_type": "code",
   "execution_count": 16,
   "metadata": {
    "collapsed": false
   },
   "outputs": [
    {
     "name": "stdout",
     "output_type": "stream",
     "text": [
      "[2, 7, 4, 3]\n"
     ]
    }
   ],
   "source": [
    "L = [2,3,4,7]\n",
    "L2 = swapValues(L,1,3)\n",
    "print(L2)"
   ]
  },
  {
   "cell_type": "code",
   "execution_count": 20,
   "metadata": {
    "collapsed": true
   },
   "outputs": [],
   "source": [
    "def findMinFromStartIndex(L, startIndx):\n",
    "    m = L[startIndx]\n",
    "    idx = startIndx\n",
    "    for i in range(startIndx, len(L)):\n",
    "        x = L[i]\n",
    "        if x < m:\n",
    "            m = x\n",
    "            idx = i\n",
    "        else:\n",
    "            pass\n",
    "        i+=1\n",
    "    return m,idx\n",
    "\n",
    "\n",
    "def checkIfNotNumeric2(L):\n",
    "    for x in L:\n",
    "        if not(isinstance(x,(int,float))):\n",
    "            return False\n",
    "    return True"
   ]
  },
  {
   "cell_type": "code",
   "execution_count": 21,
   "metadata": {
    "collapsed": true
   },
   "outputs": [],
   "source": [
    "from myUniversalFunctions import checkIfNotNumeric\n",
    "def sortList(L):\n",
    "    if not(checkIfNotNumeric2(L)):\n",
    "        print(\"Error: List does not contain numeric values\")\n",
    "        return\n",
    "    else:\n",
    "        c = 0\n",
    "        for x in L:\n",
    "            m,idx =  findMinFromStartIndex(L,c)\n",
    "            L = swapValues(L,c,idx)\n",
    "            c+=1\n",
    "        return L\n",
    "    "
   ]
  },
  {
   "cell_type": "code",
   "execution_count": 22,
   "metadata": {
    "collapsed": false
   },
   "outputs": [
    {
     "name": "stdout",
     "output_type": "stream",
     "text": [
      "[2, 2, 3, 5, 54, 59]\n"
     ]
    }
   ],
   "source": [
    "L2=[2,3,54,5,2,59]\n",
    "print(sortList(L2))"
   ]
  },
  {
   "cell_type": "code",
   "execution_count": 32,
   "metadata": {
    "collapsed": false
   },
   "outputs": [
    {
     "name": "stdout",
     "output_type": "stream",
     "text": [
      "hon la\n",
      "Science\n",
      "6\n",
      "7\n"
     ]
    }
   ],
   "source": [
    "s = \"Python language is good for Data Science.\"\n",
    "print(s[3:9])\n",
    "print(s[-8:-1])\n",
    "print(len(s[3:9]))\n",
    "print(len(s[-8:-1]))"
   ]
  },
  {
   "cell_type": "code",
   "execution_count": 1,
   "metadata": {
    "collapsed": false
   },
   "outputs": [
    {
     "name": "stdout",
     "output_type": "stream",
     "text": [
      "abc def      hskj akknfi\n"
     ]
    }
   ],
   "source": [
    "a = \"      abc def      hskj akknfi      \"\n",
    "b = a.strip()\n",
    "print(b)"
   ]
  },
  {
   "cell_type": "code",
   "execution_count": 4,
   "metadata": {
    "collapsed": false
   },
   "outputs": [
    {
     "name": "stdout",
     "output_type": "stream",
     "text": [
      " kjhfui ; dsfhg sfjjsfk : fkjhwdf\n",
      " KJHFUI ; DSFHG SFJJSFK : FKJHWDF\n",
      " kjhfui  dsfhg SFJJSFK : fkjhwdf\n",
      "[' kjhfui ', ' dsfhg SFJJSFK : fkjhwdf']\n"
     ]
    }
   ],
   "source": [
    "a =\" kjhfui ; dsfhg SFJJSFK : fkjhwdf\"\n",
    "b = a.lower()\n",
    "c = a.upper()\n",
    "d= a.replace(\";\",\"\")\n",
    "L = a.split(\";\")\n",
    "print(b)\n",
    "print(c)\n",
    "print(d)\n",
    "print(L)"
   ]
  },
  {
   "cell_type": "code",
   "execution_count": 5,
   "metadata": {
    "collapsed": false
   },
   "outputs": [
    {
     "name": "stdout",
     "output_type": "stream",
     "text": [
      "False\n"
     ]
    }
   ],
   "source": [
    "print(\"ab\" in \"afkjbfu fjbafjbuiahfiu\")"
   ]
  },
  {
   "cell_type": "code",
   "execution_count": 6,
   "metadata": {
    "collapsed": false
   },
   "outputs": [
    {
     "data": {
      "text/plain": [
       "True"
      ]
     },
     "execution_count": 6,
     "metadata": {},
     "output_type": "execute_result"
    }
   ],
   "source": [
    "\"abc\" == \"abc\""
   ]
  },
  {
   "cell_type": "code",
   "execution_count": 7,
   "metadata": {
    "collapsed": false
   },
   "outputs": [
    {
     "data": {
      "text/plain": [
       "True"
      ]
     },
     "execution_count": 7,
     "metadata": {},
     "output_type": "execute_result"
    }
   ],
   "source": [
    "\"abc\" < \"def\""
   ]
  },
  {
   "cell_type": "code",
   "execution_count": 8,
   "metadata": {
    "collapsed": false
   },
   "outputs": [
    {
     "name": "stdout",
     "output_type": "stream",
     "text": [
      "\\\n"
     ]
    }
   ],
   "source": [
    "print(\"\\\\\")"
   ]
  },
  {
   "cell_type": "code",
   "execution_count": 9,
   "metadata": {
    "collapsed": false
   },
   "outputs": [
    {
     "name": "stdout",
     "output_type": "stream",
     "text": [
      "c:\\name\\driver\n"
     ]
    }
   ],
   "source": [
    "print(r\"c:\\name\\driver\")"
   ]
  },
  {
   "cell_type": "markdown",
   "metadata": {},
   "source": []
  },
  {
   "cell_type": "code",
   "execution_count": null,
   "metadata": {
    "collapsed": true
   },
   "outputs": [],
   "source": []
  }
 ],
 "metadata": {
  "anaconda-cloud": {},
  "kernelspec": {
   "display_name": "Python [default]",
   "language": "python",
   "name": "python3"
  },
  "language_info": {
   "codemirror_mode": {
    "name": "ipython",
    "version": 3
   },
   "file_extension": ".py",
   "mimetype": "text/x-python",
   "name": "python",
   "nbconvert_exporter": "python",
   "pygments_lexer": "ipython3",
   "version": "3.5.2"
  }
 },
 "nbformat": 4,
 "nbformat_minor": 1
}
